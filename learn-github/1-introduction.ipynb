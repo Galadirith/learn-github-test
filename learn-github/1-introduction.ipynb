{
 "cells": [
  {
   "cell_type": "markdown",
   "metadata": {},
   "source": [
    "# Introduction to Git and GitHub"
   ]
  },
  {
   "cell_type": "markdown",
   "metadata": {},
   "source": [
    "In this workshop we will learn some common ways of interacting with Git and GitHub.\n",
    "\n",
    "Git is a modern version control system. A version control system records changes to a file or set of files over time so that you can recall specific versions later ([About Version Control, Pro Git book](https://git-scm.com/book/en/v2/Getting-Started-About-Version-Control)). GitHub is an online services that helps people share projects that use Git as their version control system.\n",
    "\n",
    "The environment that you are viewing this notebook in is called JupyterLab. You have access to a file browser which you can access by clicking the `Files` tab on the left hand side. You can also access a terminal window by clicking `File > New > Terminal` which can be used with common Linux commands. This will open up terminal in a new tab. You can drag this tab around to rearrange your user interface.\n",
    "\n",
    "This workshop containes a series of exercise that can be found in this directory `learn-github`. In each of the files (called a notebook) in this directory we will learn about a common workflow for interacting with Git and GitHub.\n",
    "\n",
    "To start learning one of the workflows simply double click on one of the notebooks or click one of the links below\n",
    "\n",
    "1. [Introduction to Git and GitHub](./1-introduction.ipynb) *(this notebook)*\n",
    "2. [Manage projects with Git](./2-manage-projects-with-git.ipynb)\n",
    "3. [Making changes to projects](./3-making-changes-to-projects.ipynb)\n",
    "4. [Project collaboration with GitHub](./4-project-collaboration-with-github.ipynb)"
   ]
  },
  {
   "cell_type": "markdown",
   "metadata": {},
   "source": [
    "In each of the notebooks are a list of blocks of code called *cells*. This are the grey boxes with a darker grey border and have `In [ ]:` on the left hand side. You can run the commands in the cells by clicking on them and then pressing the ![](https://upload.wikimedia.org/wikipedia/commons/c/c1/U25B6.gif) *Play* button. Trying running the cell below"
   ]
  },
  {
   "cell_type": "code",
   "execution_count": null,
   "metadata": {},
   "outputs": [],
   "source": [
    "cat .hidden"
   ]
  },
  {
   "cell_type": "markdown",
   "metadata": {},
   "source": [
    "After running the cell you should see `hello, world 😊` appear below the cell.\n",
    "\n",
    "The exercise in this workshop contain Git commands. All git commands have the same format\n",
    "\n",
    "```bash\n",
    "git <git-command> [<value-1> <value-2> ...]\n",
    "```\n",
    "\n",
    "When you see an expression like <value> you should replace it and the brackets `<` and `>` with an appropriate value which will depend on the situation. An expression like [optional] is optional. If you use it when running a command you should replace it and the brackets `[` and `]` with optional."
   ]
  }
 ],
 "metadata": {
  "kernelspec": {
   "display_name": "Bash",
   "language": "bash",
   "name": "bash"
  },
  "language_info": {
   "codemirror_mode": "shell",
   "file_extension": ".sh",
   "mimetype": "text/x-sh",
   "name": "bash"
  }
 },
 "nbformat": 4,
 "nbformat_minor": 2
}
