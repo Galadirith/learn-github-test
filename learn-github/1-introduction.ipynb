{
 "cells": [
  {
   "cell_type": "markdown",
   "metadata": {},
   "source": [
    "# Introduction to Git and GitHub"
   ]
  },
  {
   "cell_type": "markdown",
   "metadata": {},
   "source": [
    "In this workshop we will learn some common ways of interacting with Git and GitHub.\n",
    "\n",
    "This environment is called JupyterLab. You have access to a file browser which you can access by clicking the `Files` tab on the left hand side. You can also access a terminal window by clicking `File > New > Terminal` which can be used with common Linux commands. This will open up terminal in a new tab. You can drag this tab around to rearrange your user interface.\n",
    "\n",
    "The exercises for this workshop are contained in the directory `/learn-github`. In each of the files (called a notebook) we will learn a command workflow that you might experience while using Git and GitHub.\n",
    "\n",
    "To start learning one of the workflows simple double click on one of the notebooks or click one of the links below\n",
    "\n",
    "1. [Introduction to Git and GitHub](./1-introduction.ipynb) *(this notebook)*\n",
    "2. [Manage projects with Git](./2-manage-projects-with-git.ipynb)\n",
    "3. [Making changes to projects](./3-making-changes-to-projects.ipynb)\n",
    "4. [Project collaboration with GitHub](./4-project-collaboration-with-github.ipynb)"
   ]
  },
  {
   "cell_type": "markdown",
   "metadata": {},
   "source": [
    "In each of the notebooks are a list of blocks of code called *cells*. You can run the commands in the cells by clicking on them and then pressing the ![](https://upload.wikimedia.org/wikipedia/commons/c/c1/U25B6.gif) *Play* button. Trying running the cell below"
   ]
  },
  {
   "cell_type": "code",
   "execution_count": null,
   "metadata": {},
   "outputs": [],
   "source": [
    "cat .hidden"
   ]
  },
  {
   "cell_type": "markdown",
   "metadata": {},
   "source": [
    "After running the cell you should see\n",
    "\n",
    "```bash\n",
    "hello, world 😊\n",
    "```\n",
    "\n",
    "appear below the cell."
   ]
  }
 ],
 "metadata": {
  "kernelspec": {
   "display_name": "Bash",
   "language": "bash",
   "name": "bash"
  },
  "language_info": {
   "codemirror_mode": "shell",
   "file_extension": ".sh",
   "mimetype": "text/x-sh",
   "name": "bash"
  }
 },
 "nbformat": 4,
 "nbformat_minor": 2
}
