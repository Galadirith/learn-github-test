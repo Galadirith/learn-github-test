{
 "cells": [
  {
   "cell_type": "markdown",
   "metadata": {},
   "source": [
    "# Making changes to projects"
   ]
  },
  {
   "cell_type": "markdown",
   "metadata": {},
   "source": [
    "In this section we will learn how to use branchs which are an important feature of Git that help when multiple people are commiting to the same repository. To start this section run the cell below to prepare your environment"
   ]
  },
  {
   "cell_type": "code",
   "execution_count": null,
   "metadata": {},
   "outputs": [],
   "source": [
    "/bin/bash ../learn-github-setup/3-making-changes-to-projects.sh"
   ]
  },
  {
   "cell_type": "markdown",
   "metadata": {},
   "source": [
    "## Objectives\n",
    "\n",
    "1. **Inspecting branches**  \n",
    "   Using the Git commands we have learned to inspect branchs created by others.\n",
    "\n",
    "2. **Create branches**  \n",
    "   Create a new development line of commits\n",
    "\n",
    "3. **Undo commits**  \n",
    "   Delete previous commits from a repository\n",
    "\n",
    "4. **Merge branches with fast-forward**  \n",
    "   Combine different directly related development lines of commits\n",
    "\n",
    "5. **Merge branches with a new commit**  \n",
    "   Combine different development lines of commits"
   ]
  },
  {
   "cell_type": "markdown",
   "metadata": {},
   "source": [
    "## 1 Inspecting branches"
   ]
  },
  {
   "cell_type": "markdown",
   "metadata": {},
   "source": [
    "One of the best ways to use Git is when colaborating with other people on a project, for example mutliple people could be commiting updates to a repository on GitHub. However if lots of people start making changes and pushing their commits, they might end up overwriting other peoples commits.\n",
    "\n",
    "To solve this problem we can use **branches**. A branch is a sequence of commits representing a single line of development. We refer to the tip of the branch as the **branch head** and it points at a specific commit.\n",
    "\n",
    "Lets pretend that we have already started working with others on project using Git and we have a copy of this repository at `3-making-changes-to-projects`. Lets start by using some of the commands we learnt in [2 Manage projects with Git](./2-manage-projects-with-git.ipynb) to inspect the repository."
   ]
  },
  {
   "cell_type": "code",
   "execution_count": null,
   "metadata": {},
   "outputs": [],
   "source": [
    "cd 3-making-changes-to-projects\n",
    "git status"
   ]
  },
  {
   "cell_type": "markdown",
   "metadata": {},
   "source": [
    "We can see that currently our repsitory has no changes. From the second line We also see that it is connect to a remote repository called origin. Let look at where this remote repository is"
   ]
  },
  {
   "cell_type": "code",
   "execution_count": null,
   "metadata": {},
   "outputs": [],
   "source": [
    "git remote show origin"
   ]
  },
  {
   "cell_type": "markdown",
   "metadata": {},
   "source": [
    "Lets now use `git log` to learn about the history of this repository"
   ]
  },
  {
   "cell_type": "code",
   "execution_count": null,
   "metadata": {},
   "outputs": [],
   "source": [
    "git log --decorate --oneline --graph --all"
   ]
  },
  {
   "cell_type": "markdown",
   "metadata": {},
   "source": [
    "There are a lot of commits in this repository, how can we tell what the branches are? We can use the `git branch` command"
   ]
  },
  {
   "cell_type": "code",
   "execution_count": null,
   "metadata": {},
   "outputs": [],
   "source": [
    "git branch --list"
   ]
  },
  {
   "cell_type": "markdown",
   "metadata": {},
   "source": [
    "This commands provides a list of all the branches in our repository. We see that there are branches `master` which is the main branch that every repository always starts with. We also see another branch`howl` which has been created by people we have been colaborating with."
   ]
  },
  {
   "cell_type": "markdown",
   "metadata": {},
   "source": [
    "## 2 Create branches"
   ]
  },
  {
   "cell_type": "markdown",
   "metadata": {},
   "source": [
    "Lets create our own branch and add some commits to it. To create our own branch we can use the `git branch` command"
   ]
  },
  {
   "cell_type": "code",
   "execution_count": null,
   "metadata": {},
   "outputs": [],
   "source": [
    "git branch mononoke"
   ]
  },
  {
   "cell_type": "markdown",
   "metadata": {},
   "source": [
    "There are lots of ways to use the `git branch` command. You can lean more at [git-branch](https://git-scm.com/docs/git-branch)"
   ]
  },
  {
   "cell_type": "code",
   "execution_count": null,
   "metadata": {},
   "outputs": [],
   "source": [
    "git branch --list"
   ]
  },
  {
   "cell_type": "markdown",
   "metadata": {},
   "source": [
    "We can now see our new branch that we have created. To start adding commits to this branch we need to switch to it or **checkout** that branch. We can do this with the `git checkout` command."
   ]
  },
  {
   "cell_type": "code",
   "execution_count": null,
   "metadata": {},
   "outputs": [],
   "source": [
    "git checkout mononoke"
   ]
  },
  {
   "cell_type": "markdown",
   "metadata": {},
   "source": [
    "You can learn more about the `git checkout` command at [git-checkout](https://git-scm.com/docs/git-checkout). Lets make sure that we have switched to our new branch."
   ]
  },
  {
   "cell_type": "code",
   "execution_count": null,
   "metadata": {},
   "outputs": [],
   "source": [
    "git status"
   ]
  },
  {
   "cell_type": "markdown",
   "metadata": {},
   "source": [
    "`git status` now tells us that we are no longer on the `master` branch, we are on the `mononoke` branch. Lets add a few commits to this branch. We do this like adding any other regular commits."
   ]
  },
  {
   "cell_type": "code",
   "execution_count": null,
   "metadata": {},
   "outputs": [],
   "source": [
    "echo \"print('To see with eyes unclouded by hate')\" > prince-ashitaka.py\n",
    "git add prince-ashitaka.py\n",
    "git commit -m \"To see with eyes unclouded by hate\"\n",
    "\n",
    "echo \"print('That's enough')\" > san.py\n",
    "git add san.py\n",
    "git commit -m \"That's enough\"\n",
    "\n",
    "echo \"print('How about a nice book?')\" > ron-weasley.py\n",
    "git add ron-weasley.py\n",
    "git commit -m \"Add ron-weasley\""
   ]
  },
  {
   "cell_type": "markdown",
   "metadata": {},
   "source": [
    "Lets see how the history of our repository has changed"
   ]
  },
  {
   "cell_type": "code",
   "execution_count": null,
   "metadata": {},
   "outputs": [],
   "source": [
    "git log --decorate --oneline --graph --all"
   ]
  },
  {
   "cell_type": "markdown",
   "metadata": {},
   "source": [
    "We can now see how the branches have diverged. Our `master` branch stayed at commit `a83cd98` but the branch `mononoke` that we checked out has moved forward with the two commits that we created to commit `05190ba`."
   ]
  },
  {
   "cell_type": "markdown",
   "metadata": {},
   "source": [
    "## 3 Undo commits"
   ]
  },
  {
   "cell_type": "markdown",
   "metadata": {},
   "source": [
    "Sometime we add commits that we no longer want. It is simple to remove previous commits in Git using the `git reset` command. Lets remove the last commit by reseting our repository to the commit before it `9154acc`."
   ]
  },
  {
   "cell_type": "code",
   "execution_count": null,
   "metadata": {},
   "outputs": [],
   "source": [
    "git reset --hard 9154acc"
   ]
  },
  {
   "cell_type": "code",
   "execution_count": null,
   "metadata": {},
   "outputs": [],
   "source": [
    "git log --decorate --oneline --graph --all"
   ]
  },
  {
   "cell_type": "markdown",
   "metadata": {},
   "source": [
    "We can see the commit `2f61e78` has now been removed. To learn more about the `git reset` command go to [git-reset](https://git-scm.com/docs/git-reset)."
   ]
  },
  {
   "cell_type": "markdown",
   "metadata": {},
   "source": [
    "## 4 Merge branches with fast-forward"
   ]
  },
  {
   "cell_type": "markdown",
   "metadata": {},
   "source": [
    "Now that we have made our changes on a branch we would like to combine these changes with our `master` branch. To do this we can first checkout our master branch."
   ]
  },
  {
   "cell_type": "code",
   "execution_count": null,
   "metadata": {},
   "outputs": [],
   "source": [
    "git checkout master"
   ]
  },
  {
   "cell_type": "markdown",
   "metadata": {},
   "source": [
    "To now combine the changes that we made on our `mononoke` branch we can use the command `git merge`."
   ]
  },
  {
   "cell_type": "code",
   "execution_count": null,
   "metadata": {},
   "outputs": [],
   "source": [
    "git merge mononoke"
   ]
  },
  {
   "cell_type": "code",
   "execution_count": null,
   "metadata": {},
   "outputs": [],
   "source": [
    "git log --decorate --oneline --graph --all"
   ]
  },
  {
   "cell_type": "markdown",
   "metadata": {},
   "source": [
    "We can see that our `master` branch has moved along a connected sequence of commits and now the `master` branch and `mononoke` branch are on the same commit. this type of merge is known as a **fast-forward** merge. To learn more about the `git merge` command you can go to [git-merge](https://git-scm.com/docs/git-merge)."
   ]
  },
  {
   "cell_type": "markdown",
   "metadata": {},
   "source": [
    "## 5 Merge branches with a new commit"
   ]
  },
  {
   "cell_type": "markdown",
   "metadata": {},
   "source": [
    "Now that we have made all of our changes, we would like to merge the changes made by one of our colaborators on their `howl` branch with our `master` branch. Just like merging in our branch we can also use `git merge`"
   ]
  },
  {
   "cell_type": "code",
   "execution_count": null,
   "metadata": {},
   "outputs": [],
   "source": [
    "git merge --no-edit howl"
   ]
  },
  {
   "cell_type": "code",
   "execution_count": null,
   "metadata": {},
   "outputs": [],
   "source": [
    "git log --decorate --oneline --graph --all"
   ]
  },
  {
   "cell_type": "markdown",
   "metadata": {},
   "source": [
    "When we now look at our repsoitories history it has a different shape than when we merged in our `mononoke` branch. This time a new commit `80d0b50` was created instead of a *fast-forward* merge. This is because there was no direct sequence of commits between the commit `9834c57` that the branch `howl` was on and the commit `9154acc` that our `master` branch was on."
   ]
  }
 ],
 "metadata": {
  "kernelspec": {
   "display_name": "Bash",
   "language": "bash",
   "name": "bash"
  },
  "language_info": {
   "codemirror_mode": "shell",
   "file_extension": ".sh",
   "mimetype": "text/x-sh",
   "name": "bash"
  }
 },
 "nbformat": 4,
 "nbformat_minor": 2
}
