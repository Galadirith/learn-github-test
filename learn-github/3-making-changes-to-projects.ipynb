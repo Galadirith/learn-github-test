{
 "cells": [
  {
   "cell_type": "markdown",
   "metadata": {},
   "source": [
    "# Making changes to projects"
   ]
  },
  {
   "cell_type": "markdown",
   "metadata": {},
   "source": [
    "## Objectives\n",
    "\n",
    "1. **Create branches**  \n",
    "   Create a new development line of commits\n",
    "\n",
    "2. **Merge branches with fast-forward**  \n",
    "   Combine different directly related development lines of commits\n",
    "\n",
    "3. **Merge branches with a new commit**  \n",
    "   Combine different development lines of commits\n",
    "\n",
    "4. **Merge branches that have a conflict**  \n",
    "   Combine different development lines of commits that change the same content\n",
    "\n",
    "5. **Undo commits**  \n",
    "   Delete previous commits from a repository"
   ]
  },
  {
   "cell_type": "code",
   "execution_count": null,
   "metadata": {},
   "outputs": [],
   "source": []
  }
 ],
 "metadata": {
  "kernelspec": {
   "display_name": "Bash",
   "language": "bash",
   "name": "bash"
  },
  "language_info": {
   "codemirror_mode": "shell",
   "file_extension": ".sh",
   "mimetype": "text/x-sh",
   "name": "bash"
  }
 },
 "nbformat": 4,
 "nbformat_minor": 2
}
