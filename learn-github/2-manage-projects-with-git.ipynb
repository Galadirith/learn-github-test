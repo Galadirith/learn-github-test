{
 "cells": [
  {
   "cell_type": "markdown",
   "metadata": {},
   "source": [
    "# Manage projects with Git"
   ]
  },
  {
   "cell_type": "markdown",
   "metadata": {},
   "source": [
    "In this section we will learn how to start recording the history of a project using Git. To start this section run the cell below to prepare your environment"
   ]
  },
  {
   "cell_type": "code",
   "execution_count": null,
   "metadata": {},
   "outputs": [],
   "source": [
    "/bin/bash ../learn-github-setup/2-manage-projects-with-git.sh"
   ]
  },
  {
   "cell_type": "markdown",
   "metadata": {},
   "source": [
    "## Objectives\n",
    "\n",
    "1. **Setup git**  \n",
    "   Configure git in a recommend initial state\n",
    "\n",
    "2. **Create a repository**  \n",
    "   Create a folder and convert it to a git repository to start tracking snapshots\n",
    "\n",
    "3. **Create a commit**  \n",
    "   Create our first project file and store a snapshot\n",
    "\n",
    "4. **Browse your repository**  \n",
    "   View current changes and past commits\n",
    "\n",
    "5. **Push to GitHub**  \n",
    "   Create a copy of our respository on GitHub"
   ]
  },
  {
   "cell_type": "markdown",
   "metadata": {},
   "source": [
    "## 1 Setup Git\n",
    "\n",
    "This workshop is running in Microsofts Azure Notebooks which comes with Git already installed. However when you start to use Git on your own computer you can check if you have it installed by running `git --version`. If you don't have Git already installed the simplest way to do this on Mac and Windows is to head over to [git-scm.com](https://git-scm.com/) and download and install the program. If you are on a debian based operating system run `apt-get install git`. \n",
    "\n",
    "The first thing that we need to do is tell Git who we are. When we start recording the history of our projects, Git will will include this information wit every record. Change the code below so that `\"Your Name\"` is you actual name and `\"you@example.com\"` is your email address."
   ]
  },
  {
   "cell_type": "code",
   "execution_count": null,
   "metadata": {},
   "outputs": [],
   "source": [
    "git config --global user.name \"Your Name\"\n",
    "git config --global user.email \"you@example.com\""
   ]
  },
  {
   "cell_type": "markdown",
   "metadata": {},
   "source": [
    "There are many Git options that we can configure with `git config`. To learn more about this Git command go to [git-config](https://git-scm.com/docs/git-config). You can also find out what options you have set using this command."
   ]
  },
  {
   "cell_type": "code",
   "execution_count": null,
   "metadata": {},
   "outputs": [],
   "source": [
    "git config -l"
   ]
  },
  {
   "cell_type": "markdown",
   "metadata": {},
   "source": [
    "## 2 Create a repository"
   ]
  },
  {
   "cell_type": "markdown",
   "metadata": {},
   "source": [
    "Using Git we can start recording the history of any folder. When we start recording the history we convert the folder into a *repository*. A repository is your projects folder plus a special folder .git that is created during initialization inside your projects folder. This special folder stores all Git information including previous versions. Lets create a new folder for our project"
   ]
  },
  {
   "cell_type": "code",
   "execution_count": null,
   "metadata": {},
   "outputs": [],
   "source": [
    "mkdir -p 2-manage-projects-with-git\n",
    "cd 2-manage-projects-with-git"
   ]
  },
  {
   "cell_type": "markdown",
   "metadata": {},
   "source": [
    "Let not initialize this new folder as a Git repository."
   ]
  },
  {
   "cell_type": "code",
   "execution_count": null,
   "metadata": {},
   "outputs": [],
   "source": [
    "git init ."
   ]
  },
  {
   "cell_type": "markdown",
   "metadata": {},
   "source": [
    "You can learn more about the `git init` command at [git-init](https://git-scm.com/docs/git-init). Finally let check the current status of our repository"
   ]
  },
  {
   "cell_type": "code",
   "execution_count": null,
   "metadata": {},
   "outputs": [],
   "source": [
    "git status"
   ]
  },
  {
   "cell_type": "markdown",
   "metadata": {},
   "source": [
    "As you change and update your repsotitory you can always run `git status` to get an overview of what has changed. You can learn about this command at [git-status](https://git-scm.com/docs/git-status)."
   ]
  },
  {
   "cell_type": "markdown",
   "metadata": {},
   "source": [
    "## 3 Create a commit"
   ]
  },
  {
   "cell_type": "markdown",
   "metadata": {},
   "source": [
    "Let now start to add files to our repository. When using Git you can use any program that you normally would to create and update files like you normally would. Let add a new file to our repository."
   ]
  },
  {
   "cell_type": "code",
   "execution_count": null,
   "metadata": {},
   "outputs": [],
   "source": [
    "echo \"print('hello, dragonite')\" > dragonite.py"
   ]
  },
  {
   "cell_type": "markdown",
   "metadata": {},
   "source": [
    "The history that Git stores is a sequence of copies or snapshots of our project at a specific point in time. Each of these snapshots is called a **commit**. A commit is a snapshot of the files in your projects folder that is recorded by Git along with metadata including when it was committed and who made it. Everytime we want to create a commit we need to tell Git which files we want to save that have been created or changed. This is done using the `git add` command, you can learn more about it at [git-add](https://git-scm.com/docs/git-add). Lets add the file we just created"
   ]
  },
  {
   "cell_type": "code",
   "execution_count": null,
   "metadata": {},
   "outputs": [],
   "source": [
    "git add dragonite.py"
   ]
  },
  {
   "cell_type": "markdown",
   "metadata": {},
   "source": [
    "If you have created or changed more than one file you can run `git add` mutliple time for different files, or you can pass mutliple files to a single `git add` command. Once we've told Git which files we want to commit, we now need to create a new commit with this information"
   ]
  },
  {
   "cell_type": "code",
   "execution_count": null,
   "metadata": {},
   "outputs": [],
   "source": [
    "git commit -m \"Add dragonite\""
   ]
  },
  {
   "cell_type": "markdown",
   "metadata": {},
   "source": [
    "This tells Git to make a new commit with the file we added, and to record a commit message `\"Add dragonite\"`. You can learn more about the `git commit` command at [git-commit](https://git-scm.com/docs/git-commit). When we look back at the history of our repository we will see this message so that we know what changed in a particular commit. Let add a few more files and commit them to our repository."
   ]
  },
  {
   "cell_type": "code",
   "execution_count": null,
   "metadata": {},
   "outputs": [],
   "source": [
    "echo \"print('hello, pikachu')\" > dragonite.py\n",
    "git add dragonite.py\n",
    "git commit -m \"Add pikachu\"\n",
    "\n",
    "echo \"print('hello, Harry Potter')\" > dragonite.py\n",
    "git add dragonite.py\n",
    "git commit -m \"Add harry-potter\"\n",
    "\n",
    "echo \"print('hello, Darth Vader')\" > dragonite.py\n",
    "git add dragonite.py\n",
    "git commit -m \"Add darth-vader\""
   ]
  },
  {
   "cell_type": "markdown",
   "metadata": {},
   "source": [
    "## 4 Browse your repositories history"
   ]
  },
  {
   "cell_type": "markdown",
   "metadata": {},
   "source": [
    "As we add more and more commits to our repository it is often very useful to look back at it's history, you can do this using the `git log` command."
   ]
  },
  {
   "cell_type": "code",
   "execution_count": null,
   "metadata": {},
   "outputs": [],
   "source": [
    "git log --decorate --oneline --graph"
   ]
  },
  {
   "cell_type": "markdown",
   "metadata": {},
   "source": [
    "There are many options for the `git log` command. You can learn more about it at [git-log](https://git-scm.com/docs/git-log)."
   ]
  },
  {
   "cell_type": "markdown",
   "metadata": {},
   "source": [
    "## 5 Push to another repository"
   ]
  },
  {
   "cell_type": "markdown",
   "metadata": {},
   "source": [
    "We've now started to record the history of our project as a Git repository 💻🎉😄😉. One of the powerful features of Git is that it is easy to create multiple copies of a repository and update them with each other. Later on we will learn how to update a repository on GitHub from a repository we've created in this workshop.\n",
    "\n",
    "To update another repository we first have to tell our repository where the other one is. We call other repositories **remotes**. A remote or remote repository is a copy of your repository that you are monitoring. Your repository may contain commits that it doesn't have and the remote may contain commits your repository doesn't have.\n",
    "\n",
    "To connect your repository and the remote we can use the `git remote` command."
   ]
  },
  {
   "cell_type": "code",
   "execution_count": null,
   "metadata": {},
   "outputs": [],
   "source": [
    "git remote add backup ../.2-manage-projects-with-git.git"
   ]
  },
  {
   "cell_type": "markdown",
   "metadata": {},
   "source": [
    "In this case we have connected our repository to another repostiory in this environment. We have given the remote the name `backup`. To add new remotes simply change the name and the path. The path can be a url, for example a url to a GitHub repository. To lean more about the `git remote` command go to [git-remote](https://git-scm.com/docs/git-remote).\n",
    "\n",
    "We can always see where a particular remote is by using the `git remote show` command."
   ]
  },
  {
   "cell_type": "code",
   "execution_count": null,
   "metadata": {},
   "outputs": [],
   "source": [
    "git remote show backup"
   ]
  },
  {
   "cell_type": "markdown",
   "metadata": {},
   "source": [
    "Now that we have connected our repostiory to a remote, we want to send all our commits to this remote repository. We can do this using the `git push` command"
   ]
  },
  {
   "cell_type": "code",
   "execution_count": null,
   "metadata": {},
   "outputs": [],
   "source": [
    "git push backup master"
   ]
  },
  {
   "cell_type": "markdown",
   "metadata": {},
   "source": [
    "And that's it, we've now successfully create new files, created commits with these new files and pushed them to a remote repository so that we now have a second copy of all our work and our projects history."
   ]
  }
 ],
 "metadata": {
  "kernelspec": {
   "display_name": "Bash",
   "language": "bash",
   "name": "bash"
  },
  "language_info": {
   "codemirror_mode": "shell",
   "file_extension": ".sh",
   "mimetype": "text/x-sh",
   "name": "bash"
  }
 },
 "nbformat": 4,
 "nbformat_minor": 2
}
