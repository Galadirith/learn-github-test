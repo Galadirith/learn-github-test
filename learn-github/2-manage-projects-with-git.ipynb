{
 "cells": [
  {
   "cell_type": "markdown",
   "metadata": {},
   "source": [
    "# Manage projects with Git"
   ]
  },
  {
   "cell_type": "markdown",
   "metadata": {},
   "source": [
    "To start this section run the cell below to prepare your environment"
   ]
  },
  {
   "cell_type": "code",
   "execution_count": null,
   "metadata": {},
   "outputs": [],
   "source": [
    "/learn-github-setup/2-manage-projects-with-git.sh"
   ]
  },
  {
   "cell_type": "markdown",
   "metadata": {},
   "source": [
    "## Objectives\n",
    "\n",
    "1. **Setup git**  \n",
    "   Install git and configure git in a recommend initial state\n",
    "\n",
    "2. **Create a repository**  \n",
    "   Create a folder and convert it to a git repository to start tracking snapshots\n",
    "\n",
    "3. **Create a commit**  \n",
    "   Create our first project file and store a snapshot\n",
    "\n",
    "4. **Browse your repository**  \n",
    "   View current changes and past commits\n",
    "\n",
    "5. **Push to GitHub**  \n",
    "   Create a copy of our respository on GitHub"
   ]
  },
  {
   "cell_type": "markdown",
   "metadata": {},
   "source": [
    "## 1 Setup git"
   ]
  },
  {
   "cell_type": "code",
   "execution_count": null,
   "metadata": {},
   "outputs": [],
   "source": [
    "git config --global user.name \"Your Name\"\n",
    "git config --global user.email \"you@example.com\""
   ]
  },
  {
   "cell_type": "markdown",
   "metadata": {},
   "source": [
    "## 2 Create a repository"
   ]
  },
  {
   "cell_type": "code",
   "execution_count": null,
   "metadata": {},
   "outputs": [],
   "source": [
    "mkdir -p /learn-github/2-manage-projects-with-git\n",
    "cd /learn-github/2-manage-projects-with-git\n",
    "git init .\n",
    "git status"
   ]
  },
  {
   "cell_type": "markdown",
   "metadata": {},
   "source": [
    "## 3 Create a commit"
   ]
  },
  {
   "cell_type": "code",
   "execution_count": null,
   "metadata": {},
   "outputs": [],
   "source": [
    "echo \"print('hello, dragonite')\" > dragonite.py\n",
    "git add dragonite.py\n",
    "git commit -m \"Add dragonite\""
   ]
  },
  {
   "cell_type": "code",
   "execution_count": null,
   "metadata": {},
   "outputs": [],
   "source": [
    "echo \"print('hello, pikachu')\" > dragonite.py\n",
    "git add dragonite.py\n",
    "git commit -m \"Add pikachu\"\n",
    "\n",
    "echo \"print('hello, Harry Potter')\" > dragonite.py\n",
    "git add dragonite.py\n",
    "git commit -m \"Add harry-potter\"\n",
    "\n",
    "echo \"print('hello, Darth Vader')\" > dragonite.py\n",
    "git add dragonite.py\n",
    "git commit -m \"Add darth-vader\""
   ]
  },
  {
   "cell_type": "markdown",
   "metadata": {},
   "source": [
    "## 4 Browse your repositories history"
   ]
  },
  {
   "cell_type": "code",
   "execution_count": null,
   "metadata": {},
   "outputs": [],
   "source": [
    "git log --decorate --oneline --graph"
   ]
  },
  {
   "cell_type": "markdown",
   "metadata": {},
   "source": [
    "## 5 Push to another repository"
   ]
  },
  {
   "cell_type": "code",
   "execution_count": null,
   "metadata": {},
   "outputs": [],
   "source": [
    "git remote add backup /learn-github/.2-manage-projects-with-git.git"
   ]
  },
  {
   "cell_type": "code",
   "execution_count": null,
   "metadata": {},
   "outputs": [],
   "source": [
    "git remote show backup"
   ]
  },
  {
   "cell_type": "code",
   "execution_count": null,
   "metadata": {},
   "outputs": [],
   "source": [
    "git push backup master"
   ]
  }
 ],
 "metadata": {
  "kernelspec": {
   "display_name": "Bash",
   "language": "bash",
   "name": "bash"
  },
  "language_info": {
   "codemirror_mode": "shell",
   "file_extension": ".sh",
   "mimetype": "text/x-sh",
   "name": "bash"
  }
 },
 "nbformat": 4,
 "nbformat_minor": 2
}
