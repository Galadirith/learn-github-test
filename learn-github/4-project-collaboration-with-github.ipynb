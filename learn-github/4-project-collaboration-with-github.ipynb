{
 "cells": [
  {
   "cell_type": "markdown",
   "metadata": {},
   "source": [
    "# Project collaboration with GitHub"
   ]
  },
  {
   "cell_type": "markdown",
   "metadata": {},
   "source": [
    "## Objectives\n",
    "\n",
    "1. **Create a fork**  \n",
    "   Create a copy of a GitHub repository\n",
    "\n",
    "2. **Clone the fork**  \n",
    "\n",
    "3. **Create and edit a branch**  \n",
    "   \n",
    "4. **Push to the fork**  \n",
    "   \n",
    "5. **Create a pull request**  \n",
    "   Initiate a merge without commit between two forks\n",
    "\n",
    "6. **Fetch changes from upstream **  \n",
    "   Update local repository with commits from the original\n",
    "\n",
    "7. **Push upstream changes to fork**"
   ]
  },
  {
   "cell_type": "code",
   "execution_count": null,
   "metadata": {},
   "outputs": [],
   "source": []
  }
 ],
 "metadata": {
  "kernelspec": {
   "display_name": "Python 3",
   "language": "python",
   "name": "python3"
  },
  "language_info": {
   "codemirror_mode": {
    "name": "ipython",
    "version": 3
   },
   "file_extension": ".py",
   "mimetype": "text/x-python",
   "name": "python",
   "nbconvert_exporter": "python",
   "pygments_lexer": "ipython3",
   "version": "3.6.5"
  }
 },
 "nbformat": 4,
 "nbformat_minor": 2
}
